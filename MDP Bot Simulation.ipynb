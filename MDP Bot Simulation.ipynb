{
 "cells": [
  {
   "cell_type": "code",
   "execution_count": 1,
   "metadata": {},
   "outputs": [],
   "source": [
    "import pandas as pd"
   ]
  },
  {
   "cell_type": "code",
   "execution_count": 38,
   "metadata": {},
   "outputs": [],
   "source": [
    "#Constants\n",
    "\n",
    "senseRange=5\n",
    "turnTime=2\n",
    "\n"
   ]
  },
  {
   "cell_type": "code",
   "execution_count": 70,
   "metadata": {},
   "outputs": [],
   "source": [
    "def createEnvironment():\n",
    "    a=[]\n",
    "    for i in range(20):\n",
    "        b=[]\n",
    "        for j in range(15):\n",
    "            b.append([])\n",
    "        a.append(b)\n",
    "        \n",
    "    return a\n",
    "\n",
    "def populate(env):\n",
    "    #Walls\n",
    "    for i in range(20):\n",
    "        env[i][0].append('B')\n",
    "        env[i][14].append('B')\n",
    "    for i in range(1,14):\n",
    "        env[0][i].append('B')\n",
    "        env[19][i].append('B')\n",
    "        \n",
    "    #Start and Goal\n",
    "    for i in range(17,20):\n",
    "        for j in range(0,3):\n",
    "            env[i][j].append('S')     \n",
    "    for i in range(0,3):\n",
    "        for j in range(12,15):\n",
    "            env[i][j].append('G')\n",
    "         \n",
    "    #Obstacles\n",
    "    for i in range(2,6):\n",
    "        env[14][i].append('X')\n",
    "    for i in range(1,7):\n",
    "        for j in range(13,16):\n",
    "            env[j][i].append('B')\n",
    "        \n",
    "    for i in range(6,8):\n",
    "        env[i][11].append('X')\n",
    "    for i in range(5,8):\n",
    "        for j in range(10,13):\n",
    "            env[i][j].append('B')\n",
    "        \n",
    "    for i in range(10,12):\n",
    "        env[8][i].append('X')\n",
    "    for i in range(9,13):\n",
    "        for j in range(8,10):\n",
    "            env[j][i].append('B')\n",
    "    \n",
    "    #Waypoint\n",
    "    env[3][3].append('W')\n",
    "    "
   ]
  },
  {
   "cell_type": "code",
   "execution_count": null,
   "metadata": {},
   "outputs": [],
   "source": []
  },
  {
   "cell_type": "code",
   "execution_count": 71,
   "metadata": {},
   "outputs": [],
   "source": [
    "env=createEnvironment()\n"
   ]
  },
  {
   "cell_type": "code",
   "execution_count": 72,
   "metadata": {},
   "outputs": [
    {
     "name": "stdout",
     "output_type": "stream",
     "text": [
      "[['B'], ['B'], ['B'], ['B'], ['B'], ['B'], ['B'], ['B'], ['B'], ['B'], ['B'], ['B'], ['B', 'G'], ['B', 'G'], ['B', 'G']]\n",
      "[['B'], [], [], [], [], [], [], [], [], [], [], [], ['G'], ['G'], ['B', 'G']]\n",
      "[['B'], [], [], [], [], [], [], [], [], [], [], [], ['G'], ['G'], ['B', 'G']]\n",
      "[['B'], [], [], ['W'], [], [], [], [], [], [], [], [], [], [], ['B']]\n",
      "[['B'], [], [], [], [], [], [], [], [], [], [], [], [], [], ['B']]\n",
      "[['B'], [], [], [], [], [], [], [], [], [], ['B'], ['B'], ['B'], [], ['B']]\n",
      "[['B'], [], [], [], [], [], [], [], [], [], ['B'], ['X', 'B'], ['B'], [], ['B']]\n",
      "[['B'], [], [], [], [], [], [], [], [], [], ['B'], ['X', 'B'], ['B'], [], ['B']]\n",
      "[['B'], [], [], [], [], [], [], [], [], ['B'], ['X', 'B'], ['X', 'B'], ['B'], [], ['B']]\n",
      "[['B'], [], [], [], [], [], [], [], [], ['B'], ['B'], ['B'], ['B'], [], ['B']]\n",
      "[['B'], [], [], [], [], [], [], [], [], [], [], [], [], [], ['B']]\n",
      "[['B'], [], [], [], [], [], [], [], [], [], [], [], [], [], ['B']]\n",
      "[['B'], [], [], [], [], [], [], [], [], [], [], [], [], [], ['B']]\n",
      "[['B'], ['B'], ['B'], ['B'], ['B'], ['B'], ['B'], [], [], [], [], [], [], [], ['B']]\n",
      "[['B'], ['B'], ['X', 'B'], ['X', 'B'], ['X', 'B'], ['X', 'B'], ['B'], [], [], [], [], [], [], [], ['B']]\n",
      "[['B'], ['B'], ['B'], ['B'], ['B'], ['B'], ['B'], [], [], [], [], [], [], [], ['B']]\n",
      "[['B'], [], [], [], [], [], [], [], [], [], [], [], [], [], ['B']]\n",
      "[['B', 'S'], ['S'], ['S'], [], [], [], [], [], [], [], [], [], [], [], ['B']]\n",
      "[['B', 'S'], ['S'], ['S'], [], [], [], [], [], [], [], [], [], [], [], ['B']]\n",
      "[['B', 'S'], ['B', 'S'], ['B', 'S'], ['B'], ['B'], ['B'], ['B'], ['B'], ['B'], ['B'], ['B'], ['B'], ['B'], ['B'], ['B']]\n"
     ]
    }
   ],
   "source": [
    "#mark goal and start\n",
    "#mark obstacles and images\n",
    "#waypoint\n",
    "\n",
    "populate(env)\n",
    "\n",
    "for x in env:\n",
    "    print(x)"
   ]
  },
  {
   "cell_type": "code",
   "execution_count": 8,
   "metadata": {},
   "outputs": [
    {
     "data": {
      "text/plain": [
       "[[1], [1], [1], [1], [1], [1], [1], [1], [1], [1], [1], [1], [1], [1], [1]]"
      ]
     },
     "execution_count": 8,
     "metadata": {},
     "output_type": "execute_result"
    }
   ],
   "source": []
  },
  {
   "cell_type": "code",
   "execution_count": null,
   "metadata": {},
   "outputs": [],
   "source": []
  }
 ],
 "metadata": {
  "kernelspec": {
   "display_name": "Python 3",
   "language": "python",
   "name": "python3"
  },
  "language_info": {
   "codemirror_mode": {
    "name": "ipython",
    "version": 3
   },
   "file_extension": ".py",
   "mimetype": "text/x-python",
   "name": "python",
   "nbconvert_exporter": "python",
   "pygments_lexer": "ipython3",
   "version": "3.8.5"
  }
 },
 "nbformat": 4,
 "nbformat_minor": 4
}
